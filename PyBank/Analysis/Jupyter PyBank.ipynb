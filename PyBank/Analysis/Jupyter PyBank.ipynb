{
 "cells": [
  {
   "cell_type": "code",
   "execution_count": 11,
   "metadata": {},
   "outputs": [],
   "source": [
    "# Dependencies\n",
    "import csv\n",
    "import os"
   ]
  },
  {
   "cell_type": "code",
   "execution_count": 12,
   "metadata": {},
   "outputs": [],
   "source": [
    "# Files to load and output (update with correct file paths)\n",
    "file_to_load = os.path.join(\"..\",\"Resources\", \"budget_data.csv\")  # Input file path\n",
    "file_to_output = os.path.join(\"..\",\"Analysis\", \"budget_analysis.txt\")  # Output file path\n",
    "\n",
    "# Define variables to track the financial data\n",
    "total_months = 1 #start from 1 for the january calculation\n",
    "net_profit_loss = 0 #total profit/loss\n",
    "total_changes = [] #total change in the profit/loss\n",
    "greatest_increase = [\"\",0]\n",
    "greatest_decrease = [\"\",float('inf')] \n",
    "# float('inf') is used to represent positive infinity in Python. When you initialize a variable with float('inf'), \n",
    "#it allows you to set a starting point that is greater than any finite number.\n",
    "\n",
    "\n",
    "# Open and read the csv\n",
    "#could also use with open(file_to_load, \"r\") as financial_data to reduce from 2 lines to 1\n",
    "with open(file_to_load) as financial_data:\n",
    "    reader = csv.reader(financial_data)\n",
    "\n",
    "    # Skip the header row\n",
    "    header = next(reader)\n",
    "\n",
    "    # Extract first row to avoid appending to net_change_list. Basically saves data for Jan in variable \"first row\" and THEN skips that row.\n",
    "    #You do this because you need to store the firs months profit/loss seperately in order for the calculations for net total and change to calculate properly.\n",
    "    January = next(reader)\n",
    "\n",
    "    # Track the total and net change\n",
    "    #formulas below only run once because not inside a loop.\n",
    "    #This line adds the profit/loss value from the first row (January's data) to the net_profit_loss variable. \n",
    "    # The int(first_row[1]) converts the profit/loss value from a string (as read from the CSV) to an integer, allowing you to perform numerical calculations. \n",
    "    # After this line executes, net_profit_loss will hold the total profit/loss for the first month.\n",
    "    net_profit_loss+= int(January[1])\n",
    "    previous_net = int(January[1]) #setting up previous net to start from January\n",
    "\n",
    "    # Process each row of data\n",
    "    for row in reader:\n",
    "\n",
    "        # Track the totals\n",
    "        total_months+=1\n",
    "        net_profit_loss+=int(row[1])\n",
    "        # Calculate the net change\n",
    "        net_change = int(row[1]) - previous_net\n",
    "        total_changes.append(net_change) #this line appends (adds) the calculated net_change to the total_changes list\n",
    "\n",
    "        # Update previous_net for the next month/iteration\n",
    "        previous_net = int(row[1])\n",
    "\n",
    "        # Check for greatest increase\n",
    "        # Calculate the greatest increase in profits (month and amount)\n",
    "        if net_change > greatest_increase[1]: #checks if current net change is greater than the current recorded greatest increase (which we started at 0)\n",
    "            greatest_increase[0] = row[0]  # Month\n",
    "            greatest_increase[1] = net_change  # Amount\n",
    "\n",
    "        # Check for greatest decrease\n",
    "        # Calculate the greatest decrease in losses (month and amount)\n",
    "        if net_change < greatest_decrease[1]: #checks if current net change is less than the current recorded greatest decrease (which we started at 999999)\n",
    "            greatest_decrease[0] = row[0]  # Month\n",
    "            greatest_decrease[1] = net_change  # Amount\n",
    "    \n",
    "        #^adds the current rows profit/loss to the previous_net amount. I think we're using previous net in 2 different ways. \n",
    "        #once to calculate change for the individual months, and once to calculate net change for all months combined so far.\n"
   ]
  },
  {
   "cell_type": "code",
   "execution_count": 13,
   "metadata": {},
   "outputs": [
    {
     "name": "stdout",
     "output_type": "stream",
     "text": [
      "Financial Analysis\n",
      "----------------------------\n",
      "Total Months: 86\n",
      "Total Profit/Loss: $22564198\n",
      "Average Change: $-8311.11\n",
      "Greatest Increase in Profits: Aug-16 ($1862002)\n",
      "Greatest Decrease in Profits: Feb-14 ($-1825558)\n",
      "\n"
     ]
    }
   ],
   "source": [
    "# Calculate the average net change across the months\n",
    "average_change= sum(total_changes)/len(total_changes) if total_changes else 0\n",
    "#Using total_changes: This list contains all the calculated monthly changes, so you should sum this list to get the total change over all months.\n",
    "#Using len(total_changes) gives you the number of changes recorded, which corresponds to the number of months minus the first month (January) since you started tracking changes from the second month onward.\n",
    "#The if total_changes else 0 part is a safeguard to avoid division by zero in case there are no changes recorded (though in your case, there should always be at least one change).\n",
    "\n",
    "# Generate the output summary/Print the output\n",
    "#You’ll use a \"formatted string,\" which is like a template that lets you insert numbers and values (like your calculated profit/loss) right where you want them in a sentence.\n",
    "#Think of this formatted string as a fill-in-the-blanks sheet where values will automatically show up where they belong.\n",
    "output_summary = (\n",
    "    f\"Financial Analysis\\n\"\n",
    "    f\"----------------------------\\n\"\n",
    "    f\"Total Months: {total_months}\\n\"\n",
    "    f\"Total Profit/Loss: ${net_profit_loss}\\n\"\n",
    "    f\"Average Change: ${average_change:.2f}\\n\"  # Formatting to 2 decimal places\n",
    "    f\"Greatest Increase in Profits: {greatest_increase[0]} (${greatest_increase[1]})\\n\"\n",
    "    f\"Greatest Decrease in Profits: {greatest_decrease[0]} (${greatest_decrease[1]})\\n\"\n",
    ")\n",
    "\n",
    "# Print the output summary\n",
    "print(output_summary)"
   ]
  }
 ],
 "metadata": {
  "kernelspec": {
   "display_name": "base",
   "language": "python",
   "name": "python3"
  },
  "language_info": {
   "codemirror_mode": {
    "name": "ipython",
    "version": 3
   },
   "file_extension": ".py",
   "mimetype": "text/x-python",
   "name": "python",
   "nbconvert_exporter": "python",
   "pygments_lexer": "ipython3",
   "version": "3.12.4"
  }
 },
 "nbformat": 4,
 "nbformat_minor": 2
}
